{
 "cells": [
  {
   "cell_type": "markdown",
   "metadata": {},
   "source": [
    "## Cargar modelos"
   ]
  },
  {
   "cell_type": "code",
   "execution_count": 2,
   "metadata": {},
   "outputs": [],
   "source": [
    "from joblib import dump, load\n",
    "import pandas as pd"
   ]
  },
  {
   "cell_type": "code",
   "execution_count": 3,
   "metadata": {},
   "outputs": [],
   "source": [
    "tree_model = load('tree.joblib') "
   ]
  },
  {
   "cell_type": "code",
   "execution_count": 4,
   "metadata": {},
   "outputs": [],
   "source": [
    "svc_model = load('svc.joblib')"
   ]
  },
  {
   "cell_type": "code",
   "execution_count": 5,
   "metadata": {},
   "outputs": [],
   "source": [
    "nb_model = load('nb.joblib')"
   ]
  },
  {
   "cell_type": "code",
   "execution_count": 6,
   "metadata": {},
   "outputs": [],
   "source": [
    "def predict(x_test, real):\n",
    "    tree_model = load('tree.joblib') \n",
    "    svc_model = load('svc.joblib')\n",
    "    #TODO use custom naive bayes model instead of scikit\n",
    "    nb_model = load('nb.joblib')\n",
    "    \n",
    "    tree_results = tree_model.predict(x_test)\n",
    "    svc_results = svc_model.predict(x_test)\n",
    "    nb_results = nb_mode.predict(x_test)\n",
    "    \n",
    "    results = pd.DataFrame({'Tree': tree_results, \n",
    "                        'SVC': svc_results, \n",
    "                        'NB': nb_results})\n",
    "    \n",
    "    mode = results.mode(axis = 'columns')\n",
    "    final_results = pd.DataFrame({'Predict': mode[0].values, 'Real': real})"
   ]
  },
  {
   "cell_type": "code",
   "execution_count": null,
   "metadata": {},
   "outputs": [],
   "source": []
  }
 ],
 "metadata": {
  "kernelspec": {
   "display_name": "Python 3",
   "language": "python",
   "name": "python3"
  },
  "language_info": {
   "codemirror_mode": {
    "name": "ipython",
    "version": 3
   },
   "file_extension": ".py",
   "mimetype": "text/x-python",
   "name": "python",
   "nbconvert_exporter": "python",
   "pygments_lexer": "ipython3",
   "version": "3.7.3"
  }
 },
 "nbformat": 4,
 "nbformat_minor": 2
}
